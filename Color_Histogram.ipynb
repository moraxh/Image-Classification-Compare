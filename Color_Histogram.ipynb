{
 "cells": [
  {
   "cell_type": "markdown",
   "metadata": {},
   "source": [
    "# Libraries"
   ]
  },
  {
   "cell_type": "code",
   "execution_count": 15,
   "metadata": {},
   "outputs": [],
   "source": [
    "import os\n",
    "import sys\n",
    "import warnings\n",
    "import pandas as pd\n",
    "import cv2\n",
    "\n",
    "import numpy as np\n",
    "from sklearn.ensemble import RandomForestClassifier, ExtraTreesClassifier, GradientBoostingClassifier, AdaBoostClassifier\n",
    "from sklearn.model_selection import train_test_split, KFold\n",
    "from sklearn.metrics import accuracy_score\n",
    "from sklearn.svm import SVC\n",
    "\n",
    "IMAGES_DIR = \"./images\"\n",
    " \n",
    "# Ignore warnings\n",
    "warnings.filterwarnings(\"ignore\")\n",
    "\n",
    "models = {\n",
    "  'Random Forest': RandomForestClassifier(n_estimators=100, random_state=0),\n",
    "  'Extra Trees': ExtraTreesClassifier(n_estimators=100, random_state=0),\n",
    "  'Gradient Boosting': GradientBoostingClassifier(n_estimators=100, random_state=0),\n",
    "  'AdaBoost': AdaBoostClassifier(n_estimators=100, random_state=0),\n",
    "  'SVM': SVC(kernel='rbf', C=1, random_state=0),\n",
    "}"
   ]
  },
  {
   "cell_type": "markdown",
   "metadata": {},
   "source": [
    "# Get Histograms"
   ]
  },
  {
   "cell_type": "code",
   "execution_count": 16,
   "metadata": {},
   "outputs": [
    {
     "name": "stdout",
     "output_type": "stream",
     "text": [
      "Class: beach\n",
      "Image: 538/538\n",
      "Class: mountain\n",
      "Image: 538/538\n"
     ]
    }
   ],
   "source": [
    "df = pd.DataFrame(columns=['image', 'class'] + [f'b_{i}' for i in range(256)] + [f'g_{i}' for i in range(256)] + [f'r_{i}' for i in range(256)])\n",
    "\n",
    "channels = ('b', 'g', 'r')\n",
    "\n",
    "for _class in os.listdir(IMAGES_DIR):\n",
    "  print(\"Class:\", _class)\n",
    "  total = len(os.listdir(os.path.join(IMAGES_DIR, _class)))\n",
    "  for i, img in enumerate(os.listdir(os.path.join(IMAGES_DIR, _class))):\n",
    "    # Load image\n",
    "    image = cv2.imread(os.path.join(IMAGES_DIR, _class, img))\n",
    "    colorsHist = []\n",
    "\n",
    "    # Get hist for every channel\n",
    "    for j, color in enumerate(channels):\n",
    "      hist = cv2.calcHist([image], [j], None, [256], [0, 256])\n",
    "      colorsHist.append(hist.flatten())\n",
    "\n",
    "    df.loc[len(df.index)] = [os.path.join(IMAGES_DIR, _class, img), _class] + list(colorsHist[0]) + list(colorsHist[1]) + list(colorsHist[2])\n",
    "\n",
    "    sys.stdout.write(f\"\\rImage: {i + 1}/{total}\")\n",
    "    sys.stdout.flush()\n",
    "  print()"
   ]
  },
  {
   "cell_type": "markdown",
   "metadata": {},
   "source": [
    "# Classify"
   ]
  },
  {
   "cell_type": "code",
   "execution_count": 17,
   "metadata": {},
   "outputs": [],
   "source": [
    "df = df.drop('image', axis=1)\n",
    "X = df.drop(\"class\", axis=1)\n",
    "y = df[\"class\"]"
   ]
  },
  {
   "cell_type": "code",
   "execution_count": 18,
   "metadata": {},
   "outputs": [
    {
     "name": "stdout",
     "output_type": "stream",
     "text": [
      "Random Forest: 0.7946080964685616\n",
      "Extra Trees: 0.7964900947459087\n",
      "Gradient Boosting: 0.7881352282515074\n",
      "AdaBoost: 0.7611800172265288\n",
      "SVM: 0.7611757105943152\n"
     ]
    }
   ],
   "source": [
    "kf = KFold(n_splits=5, shuffle=True, random_state=42)\n",
    "\n",
    "for name, model in models.items():\n",
    "  accuracies = []\n",
    "  for train_index, test_index in kf.split(X):\n",
    "    X_train, X_test = X.iloc[train_index], X.iloc[test_index]\n",
    "    y_train, y_test = y.iloc[train_index], y.iloc[test_index]\n",
    "\n",
    "    model.fit(X_train, y_train)\n",
    "    y_pred = model.predict(X_test)\n",
    "    \n",
    "    accuracies.append(accuracy_score(y_test, y_pred))\n",
    "\n",
    "  print(f\"{name}:\", np.mean(accuracies))"
   ]
  }
 ],
 "metadata": {
  "kernelspec": {
   "display_name": "Python 3",
   "language": "python",
   "name": "python3"
  },
  "language_info": {
   "codemirror_mode": {
    "name": "ipython",
    "version": 3
   },
   "file_extension": ".py",
   "mimetype": "text/x-python",
   "name": "python",
   "nbconvert_exporter": "python",
   "pygments_lexer": "ipython3",
   "version": "3.9.7"
  }
 },
 "nbformat": 4,
 "nbformat_minor": 2
}
